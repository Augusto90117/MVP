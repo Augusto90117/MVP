{
  "nbformat": 4,
  "nbformat_minor": 0,
  "metadata": {
    "colab": {
      "provenance": [],
      "toc_visible": true,
      "authorship_tag": "ABX9TyMQkKO5+jgRQ6UiOnRZntK/",
      "include_colab_link": true
    },
    "kernelspec": {
      "name": "python3",
      "display_name": "Python 3"
    },
    "language_info": {
      "name": "python"
    }
  },
  "cells": [
    {
      "cell_type": "markdown",
      "metadata": {
        "id": "view-in-github",
        "colab_type": "text"
      },
      "source": [
        "<a href=\"https://colab.research.google.com/github/Augusto90117/MVP/blob/main/untitled0.ipynb\" target=\"_parent\"><img src=\"https://colab.research.google.com/assets/colab-badge.svg\" alt=\"Open In Colab\"/></a>"
      ]
    },
    {
      "cell_type": "markdown",
      "source": [
        "# MVP Análise de Dados e Boas Práticas\n",
        "**Nome:** Aluno Template\n",
        "\n",
        "**Matrícula:** 2025000\n",
        "\n",
        "**Dataset:** [Wine Quality Dataset](https://archive.ics.uci.edu/ml/machine-learning-databases/wine-quality/winequality-red.csv)"
      ],
      "metadata": {
        "id": "Pqqw6KgGQAoY"
      }
    },
    {
      "cell_type": "markdown",
      "source": [
        "# Descrição do Problema\n",
        "\n",
        "O objetivo é prever a qualidade do vinho tinto (em uma escala de 0 a 10) com base em suas características físico-químicas (como acidez, teor alcoólico, pH, etc.)."
      ],
      "metadata": {
        "id": "fq31gR6WXXr_"
      }
    },
    {
      "cell_type": "markdown",
      "source": [],
      "metadata": {
        "id": "wxuSh85VZoBV"
      }
    },
    {
      "cell_type": "markdown",
      "source": [
        "## Hipóteses do Problema\n",
        "\n",
        "  - As propriedades químicas do vinho influenciam diretamente sua qualidade.\n",
        "\n",
        "  - A relação entre features e target pode ser não-linear (ex: teor alcoólico alto nem sempre significa qualidade alta).\n",
        "\n",
        "  - O dataset pode ter desbalanceamento de classes (mais vinhos \"ruins\" que \"bons\")."
      ],
      "metadata": {
        "id": "G5qCiZ-1YL3c"
      }
    },
    {
      "cell_type": "markdown",
      "source": [
        "## Tipo de Problema\n",
        "\n",
        "Este é um problema de **classificação supervisionada**. Dado um conjunto de características, o objetivo é prever a qualidade do vinho tinto"
      ],
      "metadata": {
        "id": "gFku3SkTYV6F"
      }
    },
    {
      "cell_type": "markdown",
      "source": [
        "## Seleção dos Dados\n",
        "Pegamos só vinhos tintos do dataset pra não misturar com brancos (que são diferentes).\n",
        "Os dados estão completos, não possui valores faltantes\n",
        "\n"
      ],
      "metadata": {
        "id": "6VzTXvZ1YNuc"
      }
    },
    {
      "cell_type": "markdown",
      "source": [
        "## Atributos do Dataset\n",
        "O dataset Wine Quality contém 1.599 amostras de vinhos tintos portugueses. Possui doze atributos:\n",
        "- Fixed acidity\n",
        "- Volatile acidity\n",
        "- Citric acid\n",
        "- Residual sugar\n",
        "- Chlorides\n",
        "- Free sulfur dioxide\n",
        "- Total sulfur dioxide\n",
        "- Density\n",
        "- pH\n",
        "- Sulphates\n",
        "- Alcohol\n",
        "- Quality\n"
      ],
      "metadata": {
        "id": "36a8oAZ7Zt7U"
      }
    }
  ]
}